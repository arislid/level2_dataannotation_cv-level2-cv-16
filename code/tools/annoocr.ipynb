{
 "cells": [
  {
   "cell_type": "code",
   "execution_count": 1,
   "metadata": {},
   "outputs": [],
   "source": [
    "#%matplotlib inline\n",
    "import glob\n",
    "import json\n",
    "import matplotlib.pyplot as plt\n",
    "from matplotlib.pyplot import imshow\n",
    "import pandas as pd\n",
    "import seaborn as sns\n",
    "from pathlib import Path\n",
    "from PIL import Image, ImageDraw, ImageFont\n",
    "from collections import Counter\n",
    "import numpy as np\n",
    "from ipywidgets import interact, Dropdown\n",
    "import ipywidgets as widgets\n",
    "from os import path as osp"
   ]
  },
  {
   "cell_type": "code",
   "execution_count": 2,
   "metadata": {},
   "outputs": [],
   "source": [
    "from IPython.core.interactiveshell import InteractiveShell\n",
    "InteractiveShell.ast_node_interactivity = \"all\"\n",
    "\n",
    "from PIL import ImageFont\n",
    "fontsize = 100\n",
    "fnt = ImageFont.truetype(\"NanumSquareRoundR.ttf\", fontsize, encoding=\"UTF-8\")"
   ]
  },
  {
   "cell_type": "code",
   "execution_count": 3,
   "metadata": {},
   "outputs": [],
   "source": [
    "def read_json(filename):\n",
    "    with Path(filename).open(encoding='utf8') as handle:\n",
    "        ann = json.load(handle)\n",
    "    return ann"
   ]
  },
  {
   "cell_type": "code",
   "execution_count": 8,
   "metadata": {},
   "outputs": [],
   "source": [
    "class label:\n",
    "    def __init__(self, anno):\n",
    "\n",
    "        self.anno = anno\n",
    "        self.image_fnames = []\n",
    "        self.image_dir = osp.join(\"./SimpleOCR\",\"train\")\n",
    "        #for name in sorted(anno['images'].keys()):\n",
    "        #    self.dropitem(name)\n",
    "        #self.image_fnames = sorted(anno['images'].keys())\n",
    "        for file_name in anno[\"train\"]:\n",
    "            self.image_fnames.append(file_name)\n",
    "        \n",
    "        #self.image_dir = osp.join(root_dir, 'images')\n",
    "    def name(self):\n",
    "        return self.file_name\n",
    "    \n",
    "    def size(self):\n",
    "        return (self.width, self.height)\n",
    "    \n",
    "    def __getitem__(self, idx):\n",
    "        image_fname = self.image_fnames[idx]\n",
    "        image_fpath = osp.join(self.image_dir, image_fname)\n",
    "\n",
    "        bboxes = []\n",
    "        \n",
    "        for word_index in self.anno[\"train\"][image_fname]['words']:\n",
    "            word_info = self.anno[\"train\"][image_fname]['words'][word_index]\n",
    "            t_rect = np.array(word_info['points'])\n",
    "            bbox = [t_rect[0][0], t_rect[0][1], t_rect[2][0], t_rect[2][1]]\n",
    "            bboxes.append(bbox)\n",
    "        \n",
    "        return image_fpath, bboxes\n",
    "\n",
    "    def __len__(self):\n",
    "        return len(self.image_fnames)\n"
   ]
  },
  {
   "cell_type": "code",
   "execution_count": 9,
   "metadata": {},
   "outputs": [],
   "source": [
    "# gt file과 raw image file path를 이용해 데이터를 불러온다. 아래 경로는 예시.\n",
    "\n",
    "anno = read_json(f\"./SimpleOCR/ufo/fixed_train.json\")\n",
    "t_label = label(anno)\n",
    "\n"
   ]
  },
  {
   "cell_type": "code",
   "execution_count": 10,
   "metadata": {},
   "outputs": [
    {
     "data": {
      "application/vnd.jupyter.widget-view+json": {
       "model_id": "f3e05bb9a88a45ceb430e42910eedad8",
       "version_major": 2,
       "version_minor": 0
      },
      "text/plain": [
       "interactive(children=(IntSlider(value=7219, description='index', max=14438), Output()), _dom_classes=('widget-…"
      ]
     },
     "metadata": {},
     "output_type": "display_data"
    },
    {
     "data": {
      "text/plain": [
       "<function __main__.show_img(index)>"
      ]
     },
     "execution_count": 10,
     "metadata": {},
     "output_type": "execute_result"
    }
   ],
   "source": [
    "def show_img(index):\n",
    "    img_path, bboxes = t_label.__getitem__(index)\n",
    "    print(len(bboxes))\n",
    "    img = Image.open(img_path)\n",
    "    draw = ImageDraw.Draw(img)\n",
    "    for idx, bbox in enumerate(bboxes):\n",
    "        draw.rectangle(bbox, outline=\"green\",width = 3)\n",
    "    imshow(img)\n",
    "\n",
    "interact(show_img, index = (0, len(t_label)))"
   ]
  },
  {
   "cell_type": "code",
   "execution_count": null,
   "metadata": {},
   "outputs": [],
   "source": []
  }
 ],
 "metadata": {
  "kernelspec": {
   "display_name": "ai",
   "language": "python",
   "name": "python3"
  },
  "language_info": {
   "codemirror_mode": {
    "name": "ipython",
    "version": 3
   },
   "file_extension": ".py",
   "mimetype": "text/x-python",
   "name": "python",
   "nbconvert_exporter": "python",
   "pygments_lexer": "ipython3",
   "version": "3.9.13"
  },
  "orig_nbformat": 4,
  "vscode": {
   "interpreter": {
    "hash": "1aff5746361878d56cdcc40d5513f95899804bb99b43e861f54e4eae50b1db4d"
   }
  }
 },
 "nbformat": 4,
 "nbformat_minor": 2
}
